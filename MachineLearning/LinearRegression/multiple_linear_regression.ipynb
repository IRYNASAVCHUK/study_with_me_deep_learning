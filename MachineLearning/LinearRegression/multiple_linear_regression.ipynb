{
 "cells": [
  {
   "cell_type": "code",
   "execution_count": 1,
   "id": "8e326f66",
   "metadata": {},
   "outputs": [],
   "source": [
    "import numpy as np\n",
    "import pandas as pd\n",
    "import matplotlib.pyplot as plt"
   ]
  },
  {
   "cell_type": "code",
   "execution_count": 2,
   "id": "45b94584",
   "metadata": {},
   "outputs": [],
   "source": [
    "train = pd.read_csv(\"dataset/train_data.csv\")\n",
    "test = pd.read_csv(\"dataset/test_data.csv\")"
   ]
  },
  {
   "cell_type": "code",
   "execution_count": 3,
   "id": "683af867",
   "metadata": {},
   "outputs": [
    {
     "data": {
      "application/vnd.microsoft.datawrangler.viewer.v0+json": {
       "columns": [
        {
         "name": "index",
         "rawType": "int64",
         "type": "integer"
        },
        {
         "name": "Unnamed: 0",
         "rawType": "int64",
         "type": "integer"
        },
        {
         "name": "Id",
         "rawType": "int64",
         "type": "integer"
        },
        {
         "name": "MSSubClass",
         "rawType": "int64",
         "type": "integer"
        },
        {
         "name": "MSZoning",
         "rawType": "int64",
         "type": "integer"
        },
        {
         "name": "LotArea",
         "rawType": "int64",
         "type": "integer"
        },
        {
         "name": "Street",
         "rawType": "int64",
         "type": "integer"
        },
        {
         "name": "LotShape",
         "rawType": "int64",
         "type": "integer"
        },
        {
         "name": "LandContour",
         "rawType": "int64",
         "type": "integer"
        },
        {
         "name": "Utilities",
         "rawType": "int64",
         "type": "integer"
        },
        {
         "name": "LotConfig",
         "rawType": "int64",
         "type": "integer"
        },
        {
         "name": "LandSlope",
         "rawType": "int64",
         "type": "integer"
        },
        {
         "name": "Neighborhood",
         "rawType": "int64",
         "type": "integer"
        },
        {
         "name": "Condition1",
         "rawType": "int64",
         "type": "integer"
        },
        {
         "name": "Condition2",
         "rawType": "int64",
         "type": "integer"
        },
        {
         "name": "BldgType",
         "rawType": "int64",
         "type": "integer"
        },
        {
         "name": "HouseStyle",
         "rawType": "int64",
         "type": "integer"
        },
        {
         "name": "OverallQual",
         "rawType": "int64",
         "type": "integer"
        },
        {
         "name": "OverallCond",
         "rawType": "int64",
         "type": "integer"
        },
        {
         "name": "YearBuilt",
         "rawType": "int64",
         "type": "integer"
        },
        {
         "name": "YearRemodAdd",
         "rawType": "int64",
         "type": "integer"
        },
        {
         "name": "RoofStyle",
         "rawType": "int64",
         "type": "integer"
        },
        {
         "name": "RoofMatl",
         "rawType": "int64",
         "type": "integer"
        },
        {
         "name": "Exterior1st",
         "rawType": "int64",
         "type": "integer"
        },
        {
         "name": "Exterior2nd",
         "rawType": "int64",
         "type": "integer"
        },
        {
         "name": "MasVnrType",
         "rawType": "int64",
         "type": "integer"
        },
        {
         "name": "MasVnrArea",
         "rawType": "float64",
         "type": "float"
        },
        {
         "name": "ExterQual",
         "rawType": "int64",
         "type": "integer"
        },
        {
         "name": "ExterCond",
         "rawType": "int64",
         "type": "integer"
        },
        {
         "name": "Foundation",
         "rawType": "int64",
         "type": "integer"
        },
        {
         "name": "BsmtQual",
         "rawType": "int64",
         "type": "integer"
        },
        {
         "name": "BsmtCond",
         "rawType": "int64",
         "type": "integer"
        },
        {
         "name": "BsmtExposure",
         "rawType": "int64",
         "type": "integer"
        },
        {
         "name": "BsmtFinType1",
         "rawType": "int64",
         "type": "integer"
        },
        {
         "name": "BsmtFinSF1",
         "rawType": "int64",
         "type": "integer"
        },
        {
         "name": "BsmtFinType2",
         "rawType": "int64",
         "type": "integer"
        },
        {
         "name": "BsmtFinSF2",
         "rawType": "int64",
         "type": "integer"
        },
        {
         "name": "BsmtUnfSF",
         "rawType": "int64",
         "type": "integer"
        },
        {
         "name": "TotalBsmtSF",
         "rawType": "int64",
         "type": "integer"
        },
        {
         "name": "Heating",
         "rawType": "int64",
         "type": "integer"
        },
        {
         "name": "HeatingQC",
         "rawType": "int64",
         "type": "integer"
        },
        {
         "name": "CentralAir",
         "rawType": "int64",
         "type": "integer"
        },
        {
         "name": "Electrical",
         "rawType": "int64",
         "type": "integer"
        },
        {
         "name": "2ndFlrSF",
         "rawType": "int64",
         "type": "integer"
        },
        {
         "name": "LowQualFinSF",
         "rawType": "int64",
         "type": "integer"
        },
        {
         "name": "GrLivArea",
         "rawType": "int64",
         "type": "integer"
        },
        {
         "name": "BsmtFullBath",
         "rawType": "int64",
         "type": "integer"
        },
        {
         "name": "BsmtHalfBath",
         "rawType": "int64",
         "type": "integer"
        },
        {
         "name": "FullBath",
         "rawType": "int64",
         "type": "integer"
        },
        {
         "name": "HalfBath",
         "rawType": "int64",
         "type": "integer"
        },
        {
         "name": "BedroomAbvGr",
         "rawType": "int64",
         "type": "integer"
        },
        {
         "name": "KitchenAbvGr",
         "rawType": "int64",
         "type": "integer"
        },
        {
         "name": "KitchenQual",
         "rawType": "int64",
         "type": "integer"
        },
        {
         "name": "Functional",
         "rawType": "int64",
         "type": "integer"
        },
        {
         "name": "Fireplaces",
         "rawType": "int64",
         "type": "integer"
        },
        {
         "name": "GarageType",
         "rawType": "int64",
         "type": "integer"
        },
        {
         "name": "GarageFinish",
         "rawType": "int64",
         "type": "integer"
        },
        {
         "name": "GarageCars",
         "rawType": "int64",
         "type": "integer"
        },
        {
         "name": "GarageQual",
         "rawType": "int64",
         "type": "integer"
        },
        {
         "name": "GarageCond",
         "rawType": "int64",
         "type": "integer"
        },
        {
         "name": "PavedDrive",
         "rawType": "int64",
         "type": "integer"
        },
        {
         "name": "WoodDeckSF",
         "rawType": "int64",
         "type": "integer"
        },
        {
         "name": "OpenPorchSF",
         "rawType": "int64",
         "type": "integer"
        },
        {
         "name": "EnclosedPorch",
         "rawType": "int64",
         "type": "integer"
        },
        {
         "name": "3SsnPorch",
         "rawType": "int64",
         "type": "integer"
        },
        {
         "name": "ScreenPorch",
         "rawType": "int64",
         "type": "integer"
        },
        {
         "name": "PoolArea",
         "rawType": "int64",
         "type": "integer"
        },
        {
         "name": "MiscVal",
         "rawType": "int64",
         "type": "integer"
        },
        {
         "name": "MoSold",
         "rawType": "int64",
         "type": "integer"
        },
        {
         "name": "YrSold",
         "rawType": "int64",
         "type": "integer"
        },
        {
         "name": "SaleType",
         "rawType": "int64",
         "type": "integer"
        },
        {
         "name": "SaleCondition",
         "rawType": "int64",
         "type": "integer"
        },
        {
         "name": "SalePrice",
         "rawType": "float64",
         "type": "float"
        }
       ],
       "conversionMethod": "pd.DataFrame",
       "ref": "e41ea77b-e2d0-4997-b0de-cb2d0893ad52",
       "rows": [
        [
         "0",
         "0",
         "1",
         "60",
         "3",
         "8450",
         "1",
         "3",
         "3",
         "0",
         "4",
         "0",
         "5",
         "2",
         "2",
         "0",
         "5",
         "7",
         "5",
         "2003",
         "2003",
         "1",
         "0",
         "12",
         "13",
         "1",
         "196.0",
         "2",
         "4",
         "2",
         "2",
         "3",
         "3",
         "2",
         "706",
         "5",
         "0",
         "150",
         "856",
         "1",
         "0",
         "1",
         "4",
         "854",
         "0",
         "1710",
         "1",
         "0",
         "2",
         "1",
         "3",
         "1",
         "2",
         "6",
         "0",
         "1",
         "1",
         "2",
         "4",
         "4",
         "2",
         "0",
         "61",
         "0",
         "0",
         "0",
         "0",
         "0",
         "2",
         "2008",
         "8",
         "4",
         "12.247694320220996"
        ],
        [
         "1",
         "1",
         "2",
         "20",
         "3",
         "9600",
         "1",
         "3",
         "3",
         "0",
         "2",
         "0",
         "24",
         "1",
         "2",
         "0",
         "2",
         "6",
         "8",
         "1976",
         "1976",
         "1",
         "0",
         "8",
         "8",
         "2",
         "0.0",
         "3",
         "4",
         "1",
         "2",
         "3",
         "1",
         "0",
         "978",
         "5",
         "0",
         "284",
         "1262",
         "1",
         "0",
         "1",
         "4",
         "0",
         "0",
         "1262",
         "0",
         "1",
         "2",
         "0",
         "3",
         "1",
         "3",
         "6",
         "1",
         "1",
         "1",
         "2",
         "4",
         "4",
         "2",
         "298",
         "0",
         "0",
         "0",
         "0",
         "0",
         "0",
         "5",
         "2007",
         "8",
         "4",
         "12.109010932687044"
        ],
        [
         "2",
         "2",
         "3",
         "60",
         "3",
         "11250",
         "1",
         "0",
         "3",
         "0",
         "4",
         "0",
         "5",
         "2",
         "2",
         "0",
         "5",
         "7",
         "5",
         "2001",
         "2002",
         "1",
         "0",
         "12",
         "13",
         "1",
         "162.0",
         "2",
         "4",
         "2",
         "2",
         "3",
         "2",
         "2",
         "486",
         "5",
         "0",
         "434",
         "920",
         "1",
         "0",
         "1",
         "4",
         "866",
         "0",
         "1786",
         "1",
         "0",
         "2",
         "1",
         "3",
         "1",
         "2",
         "6",
         "1",
         "1",
         "1",
         "2",
         "4",
         "4",
         "2",
         "0",
         "42",
         "0",
         "0",
         "0",
         "0",
         "0",
         "9",
         "2008",
         "8",
         "4",
         "12.31716669303576"
        ],
        [
         "3",
         "3",
         "4",
         "70",
         "3",
         "9550",
         "1",
         "0",
         "3",
         "0",
         "0",
         "0",
         "6",
         "2",
         "2",
         "0",
         "5",
         "7",
         "5",
         "1915",
         "1970",
         "1",
         "0",
         "13",
         "15",
         "2",
         "0.0",
         "3",
         "4",
         "0",
         "3",
         "1",
         "3",
         "0",
         "216",
         "5",
         "0",
         "540",
         "756",
         "1",
         "2",
         "1",
         "4",
         "756",
         "0",
         "1717",
         "1",
         "0",
         "1",
         "0",
         "3",
         "1",
         "2",
         "6",
         "1",
         "5",
         "2",
         "3",
         "4",
         "4",
         "2",
         "0",
         "35",
         "272",
         "0",
         "0",
         "0",
         "0",
         "2",
         "2006",
         "8",
         "0",
         "11.84939770159144"
        ],
        [
         "4",
         "4",
         "5",
         "60",
         "3",
         "14260",
         "1",
         "0",
         "3",
         "0",
         "2",
         "0",
         "15",
         "2",
         "2",
         "0",
         "5",
         "8",
         "5",
         "2000",
         "2000",
         "1",
         "0",
         "12",
         "13",
         "1",
         "350.0",
         "2",
         "4",
         "2",
         "2",
         "3",
         "0",
         "2",
         "655",
         "5",
         "0",
         "490",
         "1145",
         "1",
         "0",
         "1",
         "4",
         "1053",
         "0",
         "2198",
         "1",
         "0",
         "2",
         "1",
         "4",
         "1",
         "2",
         "6",
         "1",
         "1",
         "1",
         "3",
         "4",
         "4",
         "2",
         "192",
         "84",
         "0",
         "0",
         "0",
         "0",
         "0",
         "12",
         "2008",
         "8",
         "4",
         "12.429216196844385"
        ]
       ],
       "shape": {
        "columns": 72,
        "rows": 5
       }
      },
      "text/html": [
       "<div>\n",
       "<style scoped>\n",
       "    .dataframe tbody tr th:only-of-type {\n",
       "        vertical-align: middle;\n",
       "    }\n",
       "\n",
       "    .dataframe tbody tr th {\n",
       "        vertical-align: top;\n",
       "    }\n",
       "\n",
       "    .dataframe thead th {\n",
       "        text-align: right;\n",
       "    }\n",
       "</style>\n",
       "<table border=\"1\" class=\"dataframe\">\n",
       "  <thead>\n",
       "    <tr style=\"text-align: right;\">\n",
       "      <th></th>\n",
       "      <th>Unnamed: 0</th>\n",
       "      <th>Id</th>\n",
       "      <th>MSSubClass</th>\n",
       "      <th>MSZoning</th>\n",
       "      <th>LotArea</th>\n",
       "      <th>Street</th>\n",
       "      <th>LotShape</th>\n",
       "      <th>LandContour</th>\n",
       "      <th>Utilities</th>\n",
       "      <th>LotConfig</th>\n",
       "      <th>...</th>\n",
       "      <th>EnclosedPorch</th>\n",
       "      <th>3SsnPorch</th>\n",
       "      <th>ScreenPorch</th>\n",
       "      <th>PoolArea</th>\n",
       "      <th>MiscVal</th>\n",
       "      <th>MoSold</th>\n",
       "      <th>YrSold</th>\n",
       "      <th>SaleType</th>\n",
       "      <th>SaleCondition</th>\n",
       "      <th>SalePrice</th>\n",
       "    </tr>\n",
       "  </thead>\n",
       "  <tbody>\n",
       "    <tr>\n",
       "      <th>0</th>\n",
       "      <td>0</td>\n",
       "      <td>1</td>\n",
       "      <td>60</td>\n",
       "      <td>3</td>\n",
       "      <td>8450</td>\n",
       "      <td>1</td>\n",
       "      <td>3</td>\n",
       "      <td>3</td>\n",
       "      <td>0</td>\n",
       "      <td>4</td>\n",
       "      <td>...</td>\n",
       "      <td>0</td>\n",
       "      <td>0</td>\n",
       "      <td>0</td>\n",
       "      <td>0</td>\n",
       "      <td>0</td>\n",
       "      <td>2</td>\n",
       "      <td>2008</td>\n",
       "      <td>8</td>\n",
       "      <td>4</td>\n",
       "      <td>12.247694</td>\n",
       "    </tr>\n",
       "    <tr>\n",
       "      <th>1</th>\n",
       "      <td>1</td>\n",
       "      <td>2</td>\n",
       "      <td>20</td>\n",
       "      <td>3</td>\n",
       "      <td>9600</td>\n",
       "      <td>1</td>\n",
       "      <td>3</td>\n",
       "      <td>3</td>\n",
       "      <td>0</td>\n",
       "      <td>2</td>\n",
       "      <td>...</td>\n",
       "      <td>0</td>\n",
       "      <td>0</td>\n",
       "      <td>0</td>\n",
       "      <td>0</td>\n",
       "      <td>0</td>\n",
       "      <td>5</td>\n",
       "      <td>2007</td>\n",
       "      <td>8</td>\n",
       "      <td>4</td>\n",
       "      <td>12.109011</td>\n",
       "    </tr>\n",
       "    <tr>\n",
       "      <th>2</th>\n",
       "      <td>2</td>\n",
       "      <td>3</td>\n",
       "      <td>60</td>\n",
       "      <td>3</td>\n",
       "      <td>11250</td>\n",
       "      <td>1</td>\n",
       "      <td>0</td>\n",
       "      <td>3</td>\n",
       "      <td>0</td>\n",
       "      <td>4</td>\n",
       "      <td>...</td>\n",
       "      <td>0</td>\n",
       "      <td>0</td>\n",
       "      <td>0</td>\n",
       "      <td>0</td>\n",
       "      <td>0</td>\n",
       "      <td>9</td>\n",
       "      <td>2008</td>\n",
       "      <td>8</td>\n",
       "      <td>4</td>\n",
       "      <td>12.317167</td>\n",
       "    </tr>\n",
       "    <tr>\n",
       "      <th>3</th>\n",
       "      <td>3</td>\n",
       "      <td>4</td>\n",
       "      <td>70</td>\n",
       "      <td>3</td>\n",
       "      <td>9550</td>\n",
       "      <td>1</td>\n",
       "      <td>0</td>\n",
       "      <td>3</td>\n",
       "      <td>0</td>\n",
       "      <td>0</td>\n",
       "      <td>...</td>\n",
       "      <td>272</td>\n",
       "      <td>0</td>\n",
       "      <td>0</td>\n",
       "      <td>0</td>\n",
       "      <td>0</td>\n",
       "      <td>2</td>\n",
       "      <td>2006</td>\n",
       "      <td>8</td>\n",
       "      <td>0</td>\n",
       "      <td>11.849398</td>\n",
       "    </tr>\n",
       "    <tr>\n",
       "      <th>4</th>\n",
       "      <td>4</td>\n",
       "      <td>5</td>\n",
       "      <td>60</td>\n",
       "      <td>3</td>\n",
       "      <td>14260</td>\n",
       "      <td>1</td>\n",
       "      <td>0</td>\n",
       "      <td>3</td>\n",
       "      <td>0</td>\n",
       "      <td>2</td>\n",
       "      <td>...</td>\n",
       "      <td>0</td>\n",
       "      <td>0</td>\n",
       "      <td>0</td>\n",
       "      <td>0</td>\n",
       "      <td>0</td>\n",
       "      <td>12</td>\n",
       "      <td>2008</td>\n",
       "      <td>8</td>\n",
       "      <td>4</td>\n",
       "      <td>12.429216</td>\n",
       "    </tr>\n",
       "  </tbody>\n",
       "</table>\n",
       "<p>5 rows × 72 columns</p>\n",
       "</div>"
      ],
      "text/plain": [
       "   Unnamed: 0  Id  MSSubClass  MSZoning  LotArea  Street  LotShape  \\\n",
       "0           0   1          60         3     8450       1         3   \n",
       "1           1   2          20         3     9600       1         3   \n",
       "2           2   3          60         3    11250       1         0   \n",
       "3           3   4          70         3     9550       1         0   \n",
       "4           4   5          60         3    14260       1         0   \n",
       "\n",
       "   LandContour  Utilities  LotConfig  ...  EnclosedPorch  3SsnPorch  \\\n",
       "0            3          0          4  ...              0          0   \n",
       "1            3          0          2  ...              0          0   \n",
       "2            3          0          4  ...              0          0   \n",
       "3            3          0          0  ...            272          0   \n",
       "4            3          0          2  ...              0          0   \n",
       "\n",
       "   ScreenPorch  PoolArea  MiscVal  MoSold  YrSold  SaleType  SaleCondition  \\\n",
       "0            0         0        0       2    2008         8              4   \n",
       "1            0         0        0       5    2007         8              4   \n",
       "2            0         0        0       9    2008         8              4   \n",
       "3            0         0        0       2    2006         8              0   \n",
       "4            0         0        0      12    2008         8              4   \n",
       "\n",
       "   SalePrice  \n",
       "0  12.247694  \n",
       "1  12.109011  \n",
       "2  12.317167  \n",
       "3  11.849398  \n",
       "4  12.429216  \n",
       "\n",
       "[5 rows x 72 columns]"
      ]
     },
     "execution_count": 3,
     "metadata": {},
     "output_type": "execute_result"
    }
   ],
   "source": [
    "train.head()\n"
   ]
  },
  {
   "cell_type": "code",
   "execution_count": 4,
   "id": "7d6dcf91",
   "metadata": {},
   "outputs": [
    {
     "data": {
      "text/plain": [
       "(1200, 72)"
      ]
     },
     "execution_count": 4,
     "metadata": {},
     "output_type": "execute_result"
    }
   ],
   "source": [
    "train.shape\n"
   ]
  },
  {
   "cell_type": "code",
   "execution_count": 5,
   "id": "880faa0c",
   "metadata": {},
   "outputs": [],
   "source": [
    "train = train.drop([\"Unnamed: 0\", \"Id\"], axis=1)\n",
    "test = test.drop([\"Unnamed: 0\", \"Id\"], axis=1)"
   ]
  },
  {
   "cell_type": "code",
   "execution_count": 6,
   "id": "96c2013e",
   "metadata": {},
   "outputs": [],
   "source": [
    "train_data =train.values\n",
    "Y = train_data[:,-1].reshape(train_data.shape[0],1)\n",
    "X = train_data[:,:-1]"
   ]
  },
  {
   "cell_type": "code",
   "execution_count": 7,
   "id": "ef21a2d2",
   "metadata": {},
   "outputs": [],
   "source": [
    "test_data = test.values\n",
    "X_test = test_data[:,:-1]\n",
    "Y_test = test_data[:,-1].reshape(test_data.shape[0],1)"
   ]
  },
  {
   "cell_type": "markdown",
   "id": "d3782e14",
   "metadata": {},
   "source": [
    "![Linear Regression](LR.png)"
   ]
  },
  {
   "cell_type": "markdown",
   "id": "0d57f5d0",
   "metadata": {},
   "source": [
    "![Linear Regression](formula.webp)"
   ]
  },
  {
   "cell_type": "markdown",
   "id": "206db772",
   "metadata": {},
   "source": [
    "![Linear Regression](gradient.png)"
   ]
  },
  {
   "cell_type": "code",
   "execution_count": 8,
   "id": "fcb9ce23",
   "metadata": {},
   "outputs": [],
   "source": [
    "X = np.vstack((np.ones((X.shape[0],)),X.T)).T\n",
    "X_test = np.vstack((np.ones((X_test.shape[0],)),X_test.T)).T"
   ]
  },
  {
   "cell_type": "code",
   "execution_count": 9,
   "id": "50a63ece",
   "metadata": {},
   "outputs": [
    {
     "name": "stdout",
     "output_type": "stream",
     "text": [
      "X_train shape:\t (1200, 70)\n",
      "Y_train shape:\t (1200, 1)\n",
      "X_test shape:\t (258, 70)\n",
      "Y_test shape:\t (258, 1)\n"
     ]
    }
   ],
   "source": [
    "print(\"X_train shape:\\t\",X.shape)\n",
    "print(\"Y_train shape:\\t\",Y.shape)\n",
    "print(\"X_test shape:\\t\",X_test.shape)\n",
    "print(\"Y_test shape:\\t\",Y_test.shape)\n"
   ]
  },
  {
   "cell_type": "code",
   "execution_count": 10,
   "id": "59d45cec",
   "metadata": {},
   "outputs": [],
   "source": [
    "def model (X,Y, learning_rate, iterations):\n",
    "    m = X.shape[0]\n",
    "    n = X.shape[1]\n",
    "    theta = np.zeros((n,1))\n",
    "    \n",
    "    cost_list = []\n",
    "    \n",
    "    for i in range(iterations):\n",
    "        \n",
    "        y_pred = X @ theta\n",
    "        \n",
    "        cost = (1/(2*m)) * np.sum(np.square(y_pred - Y))\n",
    "        \n",
    "        d_theta = (1/m) * (X.T @ (y_pred - Y))\n",
    "        theta = theta - learning_rate * d_theta\n",
    "        \n",
    "        cost_list.append(cost)\n",
    "        \n",
    "        if (i%(iterations/10) == 0):\n",
    "            print(f\"Iteration {i}: Cost {cost}\")\n",
    "    return theta, cost_list\n",
    "        "
   ]
  },
  {
   "cell_type": "code",
   "execution_count": 11,
   "id": "255379f5",
   "metadata": {},
   "outputs": [
    {
     "name": "stdout",
     "output_type": "stream",
     "text": [
      "Iteration 0: Cost 72.37539364066856\n",
      "Iteration 1000: Cost 0.027904168310316908\n",
      "Iteration 2000: Cost 0.017251065372144162\n",
      "Iteration 3000: Cost 0.016355272705548287\n",
      "Iteration 4000: Cost 0.016158836087530753\n",
      "Iteration 5000: Cost 0.016040958498450605\n",
      "Iteration 6000: Cost 0.01594682732375342\n",
      "Iteration 7000: Cost 0.015867896317230047\n",
      "Iteration 8000: Cost 0.01580056801478536\n",
      "Iteration 9000: Cost 0.015742355306482884\n"
     ]
    }
   ],
   "source": [
    "iterations = 10000\n",
    "learning_rate = 0.000000005\n",
    "theta, cost_list = model(X,Y, learning_rate, iterations)"
   ]
  },
  {
   "cell_type": "code",
   "execution_count": 12,
   "id": "9aab4630",
   "metadata": {},
   "outputs": [
    {
     "data": {
      "image/png": "[encoded data removed]",
      "text/plain": [
       "<Figure size 640x480 with 1 Axes>"
      ]
     },
     "metadata": {},
     "output_type": "display_data"
    }
   ],
   "source": [
    "plt.plot(cost_list)\n",
    "plt.title(\"Cost function\")\n",
    "plt.xlabel(\"Iterations\")\n",
    "plt.ylabel(\"Cost\")\n",
    "plt.show()"
   ]
  },
  {
   "cell_type": "code",
   "execution_count": 13,
   "id": "7654a1e5",
   "metadata": {},
   "outputs": [
    {
     "name": "stdout",
     "output_type": "stream",
     "text": [
      "Test error is : 13.0 %\n",
      "Test accuracy is : 87.0 %\n"
     ]
    },
    {
     "data": {
      "image/png": "[encoded data removed]",
      "text/plain": [
       "<Figure size 640x480 with 1 Axes>"
      ]
     },
     "metadata": {},
     "output_type": "display_data"
    }
   ],
   "source": [
    "m = X_test.shape[0]\n",
    "y_pred = X_test @ theta\n",
    "error =(1/(m)) * np.sum(np.abs(y_pred - Y_test))\n",
    "print(f\"Test error is :\", round(error, 2)*100, \"%\")\n",
    "print(f\"Test accuracy is :\", round(1-(error), 2)*100, \"%\")\n",
    "\n",
    "plt.scatter(X_test[:,1], y_pred, color='red', label='Predicted')\n",
    "plt.scatter(X_test[:,1], Y_test, color='blue', label='Actual')\n",
    "plt.title(\"Test data\")\n",
    "plt.xlabel(\"X_test\")\n",
    "plt.ylabel(\"Y_test\")\n",
    "plt.legend()\n",
    "plt.show()\n",
    "\n"
   ]
  }
 ],
 "metadata": {
  "kernelspec": {
   "display_name": "Python (my_env)",
   "language": "python",
   "name": "my_env"
  },
  "language_info": {
   "codemirror_mode": {
    "name": "ipython",
    "version": 3
   },
   "file_extension": ".py",
   "mimetype": "text/x-python",
   "name": "python",
   "nbconvert_exporter": "python",
   "pygments_lexer": "ipython3",
   "version": "3.11.2"
  }
 },
 "nbformat": 4,
 "nbformat_minor": 5
}
