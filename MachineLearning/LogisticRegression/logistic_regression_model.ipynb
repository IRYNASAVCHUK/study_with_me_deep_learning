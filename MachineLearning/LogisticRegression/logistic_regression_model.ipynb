{
 "cells": [
  {
   "cell_type": "markdown",
   "id": "729ac455",
   "metadata": {},
   "source": [
    "# Logistic Regression with Titanic dataset\n",
    "\n",
    "![Titanic](Titanic.webp)"
   ]
  },
  {
   "cell_type": "code",
   "execution_count": 3,
   "id": "e3bf2aa1",
   "metadata": {},
   "outputs": [],
   "source": [
    "#%pip install matplotlib "
   ]
  },
  {
   "cell_type": "code",
   "execution_count": 4,
   "id": "df321a17",
   "metadata": {},
   "outputs": [],
   "source": [
    "import numpy as np\n",
    "import pandas as pd\n",
    "import matplotlib.pyplot as plt"
   ]
  },
  {
   "cell_type": "markdown",
   "id": "11c0834a",
   "metadata": {},
   "source": [
    "## Load dataset Titanic"
   ]
  },
  {
   "cell_type": "code",
   "execution_count": 5,
   "id": "90d793de",
   "metadata": {},
   "outputs": [],
   "source": [
    "X_train = pd.read_csv('dataset/train_X.csv')\n",
    "Y_train = pd.read_csv('dataset/train_Y.csv')\n",
    "X_test = pd.read_csv('dataset/test_X.csv')\n",
    "Y_test = pd.read_csv('dataset/test_Y.csv')"
   ]
  },
  {
   "cell_type": "code",
   "execution_count": 6,
   "id": "e6a0f08b",
   "metadata": {},
   "outputs": [
    {
     "data": {
      "application/vnd.microsoft.datawrangler.viewer.v0+json": {
       "columns": [
        {
         "name": "index",
         "rawType": "int64",
         "type": "integer"
        },
        {
         "name": "Id",
         "rawType": "int64",
         "type": "integer"
        },
        {
         "name": "Pclass",
         "rawType": "int64",
         "type": "integer"
        },
        {
         "name": "Sex",
         "rawType": "int64",
         "type": "integer"
        },
        {
         "name": "Age",
         "rawType": "float64",
         "type": "float"
        },
        {
         "name": "SibSp",
         "rawType": "int64",
         "type": "integer"
        },
        {
         "name": "Parch",
         "rawType": "int64",
         "type": "integer"
        },
        {
         "name": "Fare",
         "rawType": "float64",
         "type": "float"
        },
        {
         "name": "Embarked",
         "rawType": "int64",
         "type": "integer"
        }
       ],
       "conversionMethod": "pd.DataFrame",
       "ref": "61c0b3e7-2a75-4078-8b4d-d9b10efd228c",
       "rows": [
        [
         "0",
         "0",
         "3",
         "0",
         "22.0",
         "1",
         "0",
         "7.25",
         "1"
        ],
        [
         "1",
         "1",
         "1",
         "1",
         "38.0",
         "1",
         "0",
         "71.2833",
         "0"
        ],
        [
         "2",
         "2",
         "3",
         "1",
         "26.0",
         "0",
         "0",
         "7.925",
         "1"
        ],
        [
         "3",
         "3",
         "1",
         "1",
         "35.0",
         "1",
         "0",
         "53.1",
         "1"
        ],
        [
         "4",
         "4",
         "3",
         "0",
         "35.0",
         "0",
         "0",
         "8.05",
         "1"
        ]
       ],
       "shape": {
        "columns": 8,
        "rows": 5
       }
      },
      "text/html": [
       "<div>\n",
       "<style scoped>\n",
       "    .dataframe tbody tr th:only-of-type {\n",
       "        vertical-align: middle;\n",
       "    }\n",
       "\n",
       "    .dataframe tbody tr th {\n",
       "        vertical-align: top;\n",
       "    }\n",
       "\n",
       "    .dataframe thead th {\n",
       "        text-align: right;\n",
       "    }\n",
       "</style>\n",
       "<table border=\"1\" class=\"dataframe\">\n",
       "  <thead>\n",
       "    <tr style=\"text-align: right;\">\n",
       "      <th></th>\n",
       "      <th>Id</th>\n",
       "      <th>Pclass</th>\n",
       "      <th>Sex</th>\n",
       "      <th>Age</th>\n",
       "      <th>SibSp</th>\n",
       "      <th>Parch</th>\n",
       "      <th>Fare</th>\n",
       "      <th>Embarked</th>\n",
       "    </tr>\n",
       "  </thead>\n",
       "  <tbody>\n",
       "    <tr>\n",
       "      <th>0</th>\n",
       "      <td>0</td>\n",
       "      <td>3</td>\n",
       "      <td>0</td>\n",
       "      <td>22.0</td>\n",
       "      <td>1</td>\n",
       "      <td>0</td>\n",
       "      <td>7.2500</td>\n",
       "      <td>1</td>\n",
       "    </tr>\n",
       "    <tr>\n",
       "      <th>1</th>\n",
       "      <td>1</td>\n",
       "      <td>1</td>\n",
       "      <td>1</td>\n",
       "      <td>38.0</td>\n",
       "      <td>1</td>\n",
       "      <td>0</td>\n",
       "      <td>71.2833</td>\n",
       "      <td>0</td>\n",
       "    </tr>\n",
       "    <tr>\n",
       "      <th>2</th>\n",
       "      <td>2</td>\n",
       "      <td>3</td>\n",
       "      <td>1</td>\n",
       "      <td>26.0</td>\n",
       "      <td>0</td>\n",
       "      <td>0</td>\n",
       "      <td>7.9250</td>\n",
       "      <td>1</td>\n",
       "    </tr>\n",
       "    <tr>\n",
       "      <th>3</th>\n",
       "      <td>3</td>\n",
       "      <td>1</td>\n",
       "      <td>1</td>\n",
       "      <td>35.0</td>\n",
       "      <td>1</td>\n",
       "      <td>0</td>\n",
       "      <td>53.1000</td>\n",
       "      <td>1</td>\n",
       "    </tr>\n",
       "    <tr>\n",
       "      <th>4</th>\n",
       "      <td>4</td>\n",
       "      <td>3</td>\n",
       "      <td>0</td>\n",
       "      <td>35.0</td>\n",
       "      <td>0</td>\n",
       "      <td>0</td>\n",
       "      <td>8.0500</td>\n",
       "      <td>1</td>\n",
       "    </tr>\n",
       "  </tbody>\n",
       "</table>\n",
       "</div>"
      ],
      "text/plain": [
       "   Id  Pclass  Sex   Age  SibSp  Parch     Fare  Embarked\n",
       "0   0       3    0  22.0      1      0   7.2500         1\n",
       "1   1       1    1  38.0      1      0  71.2833         0\n",
       "2   2       3    1  26.0      0      0   7.9250         1\n",
       "3   3       1    1  35.0      1      0  53.1000         1\n",
       "4   4       3    0  35.0      0      0   8.0500         1"
      ]
     },
     "execution_count": 6,
     "metadata": {},
     "output_type": "execute_result"
    }
   ],
   "source": [
    "X_train.head()"
   ]
  },
  {
   "cell_type": "code",
   "execution_count": 7,
   "id": "75c3682f",
   "metadata": {},
   "outputs": [
    {
     "data": {
      "application/vnd.microsoft.datawrangler.viewer.v0+json": {
       "columns": [
        {
         "name": "index",
         "rawType": "int64",
         "type": "integer"
        },
        {
         "name": "Id",
         "rawType": "int64",
         "type": "integer"
        },
        {
         "name": "Survived",
         "rawType": "int64",
         "type": "integer"
        }
       ],
       "conversionMethod": "pd.DataFrame",
       "ref": "320ca82a-e0de-465f-88be-a6281562ed26",
       "rows": [
        [
         "0",
         "0",
         "0"
        ],
        [
         "1",
         "1",
         "1"
        ],
        [
         "2",
         "2",
         "1"
        ],
        [
         "3",
         "3",
         "1"
        ],
        [
         "4",
         "4",
         "0"
        ]
       ],
       "shape": {
        "columns": 2,
        "rows": 5
       }
      },
      "text/html": [
       "<div>\n",
       "<style scoped>\n",
       "    .dataframe tbody tr th:only-of-type {\n",
       "        vertical-align: middle;\n",
       "    }\n",
       "\n",
       "    .dataframe tbody tr th {\n",
       "        vertical-align: top;\n",
       "    }\n",
       "\n",
       "    .dataframe thead th {\n",
       "        text-align: right;\n",
       "    }\n",
       "</style>\n",
       "<table border=\"1\" class=\"dataframe\">\n",
       "  <thead>\n",
       "    <tr style=\"text-align: right;\">\n",
       "      <th></th>\n",
       "      <th>Id</th>\n",
       "      <th>Survived</th>\n",
       "    </tr>\n",
       "  </thead>\n",
       "  <tbody>\n",
       "    <tr>\n",
       "      <th>0</th>\n",
       "      <td>0</td>\n",
       "      <td>0</td>\n",
       "    </tr>\n",
       "    <tr>\n",
       "      <th>1</th>\n",
       "      <td>1</td>\n",
       "      <td>1</td>\n",
       "    </tr>\n",
       "    <tr>\n",
       "      <th>2</th>\n",
       "      <td>2</td>\n",
       "      <td>1</td>\n",
       "    </tr>\n",
       "    <tr>\n",
       "      <th>3</th>\n",
       "      <td>3</td>\n",
       "      <td>1</td>\n",
       "    </tr>\n",
       "    <tr>\n",
       "      <th>4</th>\n",
       "      <td>4</td>\n",
       "      <td>0</td>\n",
       "    </tr>\n",
       "  </tbody>\n",
       "</table>\n",
       "</div>"
      ],
      "text/plain": [
       "   Id  Survived\n",
       "0   0         0\n",
       "1   1         1\n",
       "2   2         1\n",
       "3   3         1\n",
       "4   4         0"
      ]
     },
     "execution_count": 7,
     "metadata": {},
     "output_type": "execute_result"
    }
   ],
   "source": [
    "Y_train.head()"
   ]
  },
  {
   "cell_type": "code",
   "execution_count": 8,
   "id": "8732d10b",
   "metadata": {},
   "outputs": [],
   "source": [
    "X_train = X_train.drop('Id',axis=1)\n",
    "Y_train = Y_train.drop('Id',axis=1)\n",
    "X_test = X_test.drop('Id',axis=1)\n",
    "Y_test = Y_test.drop('Id',axis=1)"
   ]
  },
  {
   "cell_type": "code",
   "execution_count": 10,
   "id": "f1d8cc91",
   "metadata": {},
   "outputs": [],
   "source": [
    "X_train = X_train.values\n",
    "Y_train = Y_train.values\n",
    "X_test = X_test.values\n",
    "Y_test = Y_test.values"
   ]
  },
  {
   "cell_type": "code",
   "execution_count": 19,
   "id": "12c9b179",
   "metadata": {},
   "outputs": [
    {
     "name": "stdout",
     "output_type": "stream",
     "text": [
      "X_train shape:  (891, 7)\n",
      "Y_train shape:  (891, 1)\n",
      "X_test shape:  (418, 7)\n",
      "Y_test shape:  (418, 1)\n"
     ]
    }
   ],
   "source": [
    "print(\"X_train shape: \", X_train.shape)\n",
    "print(\"Y_train shape: \", Y_train.shape)\n",
    "print(\"X_test shape: \", X_test.shape)\n",
    "print(\"Y_test shape: \", Y_test.shape)"
   ]
  },
  {
   "cell_type": "code",
   "execution_count": 22,
   "id": "a5926ae6",
   "metadata": {},
   "outputs": [],
   "source": [
    "X_train = X_train.T\n",
    "Y_train = Y_train.T\n",
    "\n",
    "X_test = X_test.T\n",
    "Y_test = Y_test.T"
   ]
  },
  {
   "cell_type": "code",
   "execution_count": 23,
   "id": "a9c50b76",
   "metadata": {},
   "outputs": [
    {
     "name": "stdout",
     "output_type": "stream",
     "text": [
      "X_train shape:  (7, 891)\n",
      "Y_train shape:  (1, 891)\n",
      "X_test shape:  (7, 418)\n",
      "Y_test shape:  (1, 418)\n"
     ]
    }
   ],
   "source": [
    "print(\"X_train shape: \", X_train.shape)\n",
    "print(\"Y_train shape: \", Y_train.shape)\n",
    "print(\"X_test shape: \", X_test.shape)\n",
    "print(\"Y_test shape: \", Y_test.shape)"
   ]
  },
  {
   "cell_type": "markdown",
   "id": "41b99cc1",
   "metadata": {},
   "source": [
    "# Logistic Regression Overview :\n",
    "\n",
    "## Equations :\n",
    "\n",
    "$ W = \\begin{bmatrix}w_1 \\\\ w_2 \\\\ . \\\\ . \\\\ w_n \\end{bmatrix}_{ n x 1}$ ......... initialize with zeros\n",
    "\n",
    "$ B = single$  $weight/parameter $\n",
    "\n",
    "$ X = \\begin{bmatrix}. & . & .  \\\\ .  & . & .  \\\\ . & . & .  \\\\ . & . & .  \\\\ \\end{bmatrix}_{n x m}$\n",
    "\n",
    "$ Y = \\begin{bmatrix}. & . & . & . & . \\end{bmatrix}_{1 x m}$\n",
    "\n",
    "\n",
    "$\\sigma = \\frac{1}{(1 + e^{-x})}  $   ......... (sigmoid function)\n",
    "\n",
    "\n",
    "A = $\\sigma ( W^T*X + b ) $    ........ (probabilistic predictions of shape (1 x m ) )\n",
    "\n",
    "<img src = \"sigmoid.png\" width = 400px>\n",
    "\n",
    "\n",
    "## Cost function :\n",
    "\n",
    "$ cost = - \\frac{1}{m} \\sum_{i=1}^m [ y*log(a) + (1 - y)*log(1 - a) ] $\n",
    "\n",
    "## Gradient Descent \n",
    "\n",
    "$dW = \\frac{\\partial COST }{\\partial W} = ( A - Y )*X^T $ ...... shape (1 x n) \n",
    "\n",
    "$dB = \\frac{\\partial COST }{\\partial B} = ( A - Y ) $\n",
    "\n",
    "$W = W - \\alpha * dW^T $\n",
    "\n",
    "$B = B - \\alpha * dB $\n",
    "\n",
    "\n",
    "<img src = \"gradient-descent.png\" width = 300px>"
   ]
  },
  {
   "cell_type": "code",
   "execution_count": 24,
   "id": "fa898980",
   "metadata": {},
   "outputs": [],
   "source": [
    "def sigmoid(x):\n",
    "    return 1/(1 + np.exp(-x))"
   ]
  },
  {
   "cell_type": "code",
   "execution_count": 26,
   "id": "91a3499b",
   "metadata": {},
   "outputs": [],
   "source": [
    "def cost_function(Y, Y_hat):\n",
    "    m = Y.shape[1]\n",
    "    cost = (-1/m) * np.sum(np.multiply(Y, np.log(Y_hat)) + np.multiply(1 - Y, np.log(1 - Y_hat)))\n",
    "    return cost"
   ]
  },
  {
   "cell_type": "code",
   "execution_count": null,
   "id": "9bc175f2",
   "metadata": {},
   "outputs": [],
   "source": []
  },
  {
   "cell_type": "code",
   "execution_count": null,
   "id": "e137cde2",
   "metadata": {},
   "outputs": [],
   "source": [
    "def model(X_train, Y_train, learning_rate, iterations):\n",
    "    \n",
    "    m = X_train.shape[1] # number of observations\n",
    "    n = X_train.shape[0] # number of features\n",
    "    \n",
    "    W = np.zeros(n,1) \n",
    "    B = 0\n",
    "    \n",
    "    cost_list = []\n",
    "    \n",
    "    for i in range(iterations):\n",
    "        Z = np.dot(W.T, X_train) + B\n",
    "        Y_pred = sigmoid(Z)\n",
    "        cost = cost_function(Y_train, Y_pred)\n",
    "        \n",
    "        dW = (1/m) * np.dot((A - Y_train),X_train.T)\n",
    "        dB = (1/m) * np.sum(A - Y_train)\n",
    "        \n",
    "        W = W - learning_rate*dW.T\n",
    "        B = B - learning_rate*dB\n",
    "        \n",
    "        cost_list.append(cost)\n",
    "        \n",
    "        if i % 10 == 0:\n",
    "            print(\"Cost after iteration {}: {}\".format(i, cost))\n",
    "    \n",
    "    return W, B\n",
    "        \n",
    "        "
   ]
  }
 ],
 "metadata": {
  "kernelspec": {
   "display_name": "my_env",
   "language": "python",
   "name": "python3"
  },
  "language_info": {
   "codemirror_mode": {
    "name": "ipython",
    "version": 3
   },
   "file_extension": ".py",
   "mimetype": "text/x-python",
   "name": "python",
   "nbconvert_exporter": "python",
   "pygments_lexer": "ipython3",
   "version": "3.11.2"
  }
 },
 "nbformat": 4,
 "nbformat_minor": 5
}
